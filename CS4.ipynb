{
 "cells": [
  {
   "cell_type": "markdown",
   "metadata": {},
   "source": [
    "# Recommendation Systems - MITXPro\n",
    "\n",
    "This is my solution for Case Study 4.1 of MITXPro Data Science and Big Data Analytics. This is a simple recomendation system using some of the MovieLens (http://grouplens.org/datasets/movielens) dataset. Specifically, the 100K dataset.\n",
    "\n",
    "Basically, I use population averages as a base case and then Alternating Least Squares (ALS) to implement a collaborative filter."
   ]
  },
  {
   "cell_type": "markdown",
   "metadata": {},
   "source": [
    "There are some libraries that implement many recommendaton algorithms (such as RecommenderLab and Graphlab-Create), but I decided to implement myself population and ALS algorithms. So, all I import is the following:"
   ]
  },
  {
   "cell_type": "code",
   "execution_count": 1,
   "metadata": {
    "collapsed": true
   },
   "outputs": [],
   "source": [
    "import matplotlib as mpl\n",
    "from matplotlib import pyplot as plt\n",
    "import pandas as pd\n",
    "import numpy as np\n",
    "from sklearn.cross_validation import train_test_split"
   ]
  },
  {
   "cell_type": "code",
   "execution_count": 2,
   "metadata": {},
   "outputs": [
    {
     "name": "stdout",
     "output_type": "stream",
     "text": [
      "<class 'pandas.core.frame.DataFrame'>\n",
      "RangeIndex: 100000 entries, 0 to 99999\n",
      "Data columns (total 3 columns):\n",
      "user_id    100000 non-null int64\n",
      "item_id    100000 non-null int64\n",
      "rating     100000 non-null int64\n",
      "dtypes: int64(3)\n",
      "memory usage: 2.3 MB\n"
     ]
    }
   ],
   "source": [
    "col_names = [\"user_id\", \"item_id\", \"rating\", \"timestamp\"]\n",
    "data = pd.read_table(\"u.data\", names=col_names)\n",
    "data = data.drop(\"timestamp\", 1)\n",
    "data.info()"
   ]
  },
  {
   "cell_type": "code",
   "execution_count": 3,
   "metadata": {},
   "outputs": [
    {
     "data": {
      "image/png": "[encoded data removed]",
      "text/plain": [
       "<matplotlib.figure.Figure at 0x7f79cd7d6610>"
      ]
     },
     "metadata": {},
     "output_type": "display_data"
    }
   ],
   "source": [
    "def hist(data, title=None):\n",
    "    \"\"\"Plot a histogram of ratings. This assumes ratings goes from 1 to 5.\n",
    "    \n",
    "    Args:\n",
    "        data (pandas DataFrame): Dataframe with a \"rating\" column.\n",
    "        \n",
    "        title (str): title of the graph\n",
    "    \"\"\"\n",
    "    plt.hist(data[\"rating\"],bins=np.arange(1,7) - 0.5, edgecolor='black', linewidth=1.1)\n",
    "    plt.xticks(np.arange(1,6))\n",
    "    if title != None:\n",
    "        plt.title(title)\n",
    "    plt.xlabel(\"Rating\")\n",
    "    plt.ylabel(\"Frequency\")\n",
    "    plt.show()\n",
    "    \n",
    "hist(data, \"Original rating distribution\")"
   ]
  },
  {
   "cell_type": "markdown",
   "metadata": {},
   "source": [
    "Checking the sparcity of the data:"
   ]
  },
  {
   "cell_type": "code",
   "execution_count": 4,
   "metadata": {},
   "outputs": [
    {
     "name": "stdout",
     "output_type": "stream",
     "text": [
      "Sparcity of the original dataframe: 6.30%\n"
     ]
    }
   ],
   "source": [
    "Number_Ratings = len(data)\n",
    "Number_Movies = len(np.unique(data[\"item_id\"]))\n",
    "Number_Users = len(np.unique(data[\"user_id\"]))\n",
    "\n",
    "print \"Sparcity of the original dataframe: %.2f%%\" % ( float(Number_Ratings)/(Number_Movies*Number_Users)*100)"
   ]
  },
  {
   "cell_type": "markdown",
   "metadata": {},
   "source": [
    "The next function will subset the data to make it less sparse. The user specify a threshold in the number of observations and the data is subsetted accordingly."
   ]
  },
  {
   "cell_type": "code",
   "execution_count": null,
   "metadata": {
    "collapsed": true
   },
   "outputs": [],
   "source": [
    "def subSettingData(data, userThold, movieThold):\n",
    "    \"\"\"Select Users/Movies that have at least userThold/movieThold observations.\n",
    "    \n",
    "    Select Users that have at least userThold observation, and, after thresholding\n",
    "    users, select Movies that have at least movieThold observations.\n",
    "\n",
    "    Args:\n",
    "        data (pandas DataFrame): Dataframe with columns \"user_id\", \"item_id\",\n",
    "            \"rating\".\n",
    "        userThold (int): user observation threshold\n",
    "        movieThold (int): movie observation threshold\n",
    "        \n",
    "    Returns:\n",
    "        pandas DataFrame: subsetted Dataframe\n",
    "    \"\"\"\n",
    "    # thesholding users first\n",
    "    c={x: 0 for x in set(data['user_id'].values)}\n",
    "    for i in data['user_id'].values:\n",
    "        c[i]+=1\n",
    "    keepUsers=set(filter(lambda x: c[x] > userThold, c))\n",
    "    res=data[data['user_id'].isin(keepUsers)]\n",
    "    # then thesholding movies\n",
    "    c={x:0 for x in set(res['item_id'].values)}\n",
    "    for i in res['item_id'].values:\n",
    "        c[i]+=1\n",
    "    keepMovies=set(filter(lambda x: c[x] > movieThold, c))\n",
    "    res=res[res['item_id'].isin(keepMovies)]\n",
    "    return res"
   ]
  },
  {
   "cell_type": "markdown",
   "metadata": {},
   "source": [
    "I will use a theshold of 50 in both user and movie observations:"
   ]
  },
  {
   "cell_type": "code",
   "execution_count": null,
   "metadata": {
    "collapsed": true
   },
   "outputs": [],
   "source": [
    "data2 = subSettingData(data, 50, 50)"
   ]
  },
  {
   "cell_type": "markdown",
   "metadata": {},
   "source": [
    "The sparcity was sensibly reduced:"
   ]
  },
  {
   "cell_type": "code",
   "execution_count": null,
   "metadata": {},
   "outputs": [],
   "source": [
    "Number_Ratings2 = len(data2)\n",
    "Number_Movies2 = len(np.unique(data2[\"item_id\"]))\n",
    "Number_Users2 = len(np.unique(data2[\"user_id\"]))\n",
    "\n",
    "print \"Sparcity of the original dataframe: %.2f%%\" % ( float(Number_Ratings2)/(Number_Movies2*Number_Users2)*100)"
   ]
  },
  {
   "cell_type": "markdown",
   "metadata": {},
   "source": [
    "And the historgram:"
   ]
  },
  {
   "cell_type": "code",
   "execution_count": null,
   "metadata": {},
   "outputs": [],
   "source": [
    "hist(data2)"
   ]
  },
  {
   "cell_type": "markdown",
   "metadata": {},
   "source": [
    "Here I create some dictionaries to map the user_id and item_id to matrices indices in the appropriate matrix"
   ]
  },
  {
   "cell_type": "code",
   "execution_count": null,
   "metadata": {
    "collapsed": true
   },
   "outputs": [],
   "source": [
    "def getMaps(data):\n",
    "    \"\"\"return maps to/from user_id/item_id from/to matrix index\n",
    "    \n",
    "    This should be used with the full dataframe, i.e. before splitting\n",
    "    the dataframe into train, validation and test sets\n",
    "    \n",
    "    Args:\n",
    "        data(pandas Dataframe): dataframe with columns \"item_id\"\n",
    "            and \"user_id\"\n",
    "            \n",
    "    Returns:\n",
    "        tuple of four dictionaries, first maps users to matrix row\n",
    "        second maps movies to matrix columns, third maps row matrix\n",
    "        to user (inverse map of fist map) and fourth maps matrix\n",
    "        column to movies\n",
    "    \"\"\"\n",
    "    col2Movie={i:j for i,j in enumerate(np.unique(data[\"item_id\"]))}\n",
    "    movie2Col={col2Movie[i] : i for i in col2Movie}\n",
    "    row2User={i:j for i,j in enumerate(np.unique(data[\"user_id\"]))}\n",
    "    user2Row={row2User[i] : i for i in row2User}\n",
    "    return user2Row, movie2Col, row2User, col2Movie"
   ]
  },
  {
   "cell_type": "code",
   "execution_count": null,
   "metadata": {
    "collapsed": true
   },
   "outputs": [],
   "source": [
    "user2Row, movie2Col, row2User, col2Movie = getMaps(data2)"
   ]
  },
  {
   "cell_type": "markdown",
   "metadata": {},
   "source": [
    "Below, the less sparse dataframe is splited into train+validation (70% of the total) and test (30%) sets. Furthermore, the first set is splitted again into train (75%) and validation (25%)."
   ]
  },
  {
   "cell_type": "code",
   "execution_count": null,
   "metadata": {},
   "outputs": [],
   "source": [
    "# assuming pdf is the pandas dataframe with the data\n",
    "trainValid2, test2 = train_test_split(data2, test_size = 0.3)\n",
    "train2, valid2 = train_test_split(trainValid2, test_size = 0.25)"
   ]
  },
  {
   "cell_type": "markdown",
   "metadata": {},
   "source": [
    "Rather than using a library I decided implementing myself the population and a collaborative algorithms. Particularly, I implemented Alternating Least Squares (ALS) that is quite simple and intuitive. However, the implementation is not very efficient. It could be parallelized fairly easily. It only requires to invert a small matrix (k dimensional, where k is the number of chosen features)."
   ]
  },
  {
   "cell_type": "markdown",
   "metadata": {},
   "source": [
    "The next function implements the population tranning, where I use the trainning set to compute averages across movies and use those averages to fill in the remainder of the matrix."
   ]
  },
  {
   "cell_type": "code",
   "execution_count": null,
   "metadata": {
    "collapsed": true
   },
   "outputs": [],
   "source": [
    "def pop_train(nusers, nmovies, data):\n",
    "    \"\"\"this function train using the population averages. \n",
    "    \n",
    "    Args:\n",
    "        nusers (int): total number of users in the full set, i.e.\n",
    "            train+validation+test set\n",
    "        nmovies (int): total number of movies in the full set\n",
    "        data (pandas Dataframe): dataframe with the trainning set\n",
    "    \n",
    "    Returns:\n",
    "        numpy.array : recommendation matrix completely filled.\n",
    "    \"\"\"\n",
    "    R=np.zeros((nusers, nmovies))\n",
    "    W=np.zeros_like(R)\n",
    "    for i,j,l in data.values:\n",
    "        R[user2Row[i], movie2Col[j]] = l\n",
    "        W[user2Row[i], movie2Col[j]] = 1 if l > 0 else 0\n",
    "    y=np.sum(R, axis=0)/np.sum(W, axis=0)\n",
    "    y=np.tile(y, (R.shape[0],1))\n",
    "    R[W==0]=y[W==0]\n",
    "    return R"
   ]
  },
  {
   "cell_type": "code",
   "execution_count": null,
   "metadata": {
    "collapsed": true
   },
   "outputs": [],
   "source": [
    "def pop_predict(R, l):\n",
    "    \"\"\"using the matrix returned by pop_train predicts ratings of a list of pairs user\n",
    "       and movie.\n",
    "       \n",
    "    Args:\n",
    "        R (np.array): ratings matrix trained with pop_train\n",
    "        \n",
    "    Returns:\n",
    "        numpy.array: predicted labels yhat\n",
    "    \"\"\"\n",
    "    res=[]\n",
    "    for u, m in l:\n",
    "        res.append( R[user2Row[u], movie2Col[m]] )\n",
    "    return np.array(res)"
   ]
  },
  {
   "cell_type": "code",
   "execution_count": null,
   "metadata": {
    "collapsed": true
   },
   "outputs": [],
   "source": [
    "def rmse(y,yhat):\n",
    "    \"\"\"compute rmse between two vectors\n",
    "    \n",
    "    Args:\n",
    "        y (np.array): true labels\n",
    "        yhat (np.array): prediction\n",
    "    \n",
    "    Returns:\n",
    "        float: rmse\n",
    "    \"\"\"\n",
    "    return np.sqrt( np.mean(np.power(y-yhat,2.0)) )"
   ]
  },
  {
   "cell_type": "markdown",
   "metadata": {},
   "source": [
    "Evaluating the population algorithm with the test set:"
   ]
  },
  {
   "cell_type": "code",
   "execution_count": null,
   "metadata": {},
   "outputs": [],
   "source": [
    "# Since there is no need to fine tune the population algorithm I am using\n",
    "#   the train + validation sets to train it\n",
    "R2=pop_train(Number_Users2, Number_Movies2, trainValid2)\n",
    "yhat2=pop_predict(R2, test2.values[:,0:2])\n",
    "rmse(test2.values[:,2], yhat2)"
   ]
  },
  {
   "cell_type": "markdown",
   "metadata": {},
   "source": [
    "## Alternating Least Squares\n",
    "\n",
    "An intuitive description of Alternating Least Squares (ALS) is as follows:\n",
    "\n",
    "We want to compute a low rank (rank k) fatorization of the true (and complete) rating matrix $R$ (dimensions n by m, where n is the number of users, and m is the number of movies) as follows:\n",
    "\n",
    "$\\;\\;\\;X^T\\cdot Y=R$\n",
    "\n",
    "where $X$ is the user feature matrix (dimensions k by n) and $Y$ is the movie feature matrix (dimensions k by m).\n",
    "\n",
    "We can formulate this as an optimization problem of this form:\n",
    "\n",
    "$\\;\\;\\;min (X^T\\cdot Y - R)^2$\n",
    "\n",
    "But this is not convex, since we want to find both $X$ and $Y$. But if we knew $Y$, we could apply least squares to find X, and, in the other hand, if we knew $X$ we could apply least squares to find $Y$. This is basically what ALS does: it pretends to know one variable (at the beginning initializing it randomily) and solves for the other variable. Next step, the variables invert roles and a new least squares is used.\n",
    "\n",
    "Before presenting the formulation, we need to realize that what we have is not $R$ but an incomplete matrix. If you think of a particular user $u$, what we have is:\n",
    "\n",
    "$\\;\\;\\;W_u \\cdot Y^T \\cdot x_u=W_u \\cdot r_u^T$\n",
    "\n",
    "where $x_u$ is the column of $X$ corresponding to user $u$, $r_u$ is the row of $R$ also corresponding to $u$ and $W_u$ is a diagonal matrix with ones only in the possitions where we actually have observations of $u$. In the same way, for movies we have:\n",
    "\n",
    "$\\;\\;\\;W_m \\cdot X^T\\cdot y_m=W_m \\cdot r_m$\n",
    "\n",
    "where $y_m$ is the column of $Y$ corresponding to movie $m$, $r_m$ is the column of $R$ also corresponding to $m$ and $W_m$ is a diagonal matrix with ones only in the possitions where we actually have observations of $m$.\n",
    "\n",
    "We can then write the normal equations as follows:\n",
    "\n",
    "$\\;\\;\\;Y \\cdot W_u^T \\cdot W_u \\cdot Y^T \\cdot x_u=Y \\cdot W_u^T \\cdot W_u \\cdot r_u^T$\n",
    "\n",
    "and\n",
    "\n",
    "$\\;\\;\\;X \\cdot W_m^T \\cdot W_m \\cdot X^T \\cdot y_m=X \\cdot W_m^T \\cdot W_m \\cdot r_m$\n",
    "\n",
    "since $W_u$ and $W_m$ are just diagonals of only ones and zeros:\n",
    "\n",
    "$\\;\\;\\;Y \\cdot W_u \\cdot Y^T \\cdot x_u=Y \\cdot W_u \\cdot r_u^T$\n",
    "\n",
    "$\\;\\;\\;X \\cdot W_m \\cdot X^T \\cdot y_m=X \\cdot W_m \\cdot r_m$\n",
    "\n",
    "Solving (alternatingly)  for $x_u$ and $y_m$:\n",
    "\n",
    "$\\;\\;\\;x_u= (Y \\cdot W_u \\cdot Y^T)^{-1} \\cdot Y \\cdot W_u \\cdot r_u^T$\n",
    "\n",
    "$\\;\\;\\;y_m= (X \\cdot W_m \\cdot X^T)^{-1} \\cdot X \\cdot W_m \\cdot r_m$\n",
    "\n",
    "Finally, adding regularization:\n",
    "\n",
    "$\\;\\;\\;x_u= (Y \\cdot W_u \\cdot Y^T + \\lambda \\cdot I)^{-1} \\cdot Y \\cdot W_u \\cdot r_u^T$\n",
    "\n",
    "$\\;\\;\\;y_m= (X \\cdot W_m \\cdot X^T + \\lambda \\cdot I)^{-1} \\cdot X \\cdot W_m \\cdot r_m$"
   ]
  },
  {
   "cell_type": "markdown",
   "metadata": {},
   "source": [
    "The code below implements this algorithm:"
   ]
  },
  {
   "cell_type": "code",
   "execution_count": null,
   "metadata": {
    "collapsed": true
   },
   "outputs": [],
   "source": [
    "def als_train(nusers, nmovies, data, k=20, lmbda=1.0):\n",
    "    TOL=1e-16\n",
    "    R=np.zeros((nusers, nmovies))\n",
    "    W=np.zeros((nusers, nmovies))\n",
    "    for i,j,l in data.values:\n",
    "        R[user2Row[i], movie2Col[j]] = l\n",
    "        W[user2Row[i], movie2Col[j]] = 1 if l > 0 else 0\n",
    "    Y=np.random.random((k, nmovies))\n",
    "    Yaux=np.zeros_like(Y)\n",
    "    X=np.zeros((k, nusers))\n",
    "    while(True):\n",
    "        for u in range(nusers):\n",
    "            X[:,u] = np.linalg.inv(Y.dot(np.diag(W[u,:])).dot(Y.T) + lmbda*np.eye(k)).\\\n",
    "                     dot(Y.dot(np.diag(W[u,:])).dot(R[u,:]))\n",
    "        for m in range(nmovies):\n",
    "            Yaux[:,m] = np.linalg.inv(X.dot(np.diag(W[:,m])).dot(X.T) + lmbda*np.eye(k)).\\\n",
    "                        dot(X.dot(np.diag(W[:,m])).dot(R[:,m]))\n",
    "        #print np.sqrt(np.mean(np.power(Y-Yaux,2)))\n",
    "        if np.sqrt(np.mean(np.power(Y-Yaux,2))) < TOL:\n",
    "            break\n",
    "        else:\n",
    "            Y=Yaux\n",
    "    return X, Y"
   ]
  },
  {
   "cell_type": "code",
   "execution_count": null,
   "metadata": {
    "collapsed": true
   },
   "outputs": [],
   "source": [
    "def als_predict(X, Y, l):\n",
    "    res=[]\n",
    "    for u, m in l:\n",
    "        res.append( np.dot(X.T[user2Row[u],:], Y[:,movie2Col[m]]) )\n",
    "    return np.array(res)"
   ]
  },
  {
   "cell_type": "markdown",
   "metadata": {},
   "source": [
    "In addition to regularization ($\\lambda$), we need also to set the number of features $k$. So, in the following cells, I look for both the best regularization level and number of features."
   ]
  },
  {
   "cell_type": "code",
   "execution_count": null,
   "metadata": {
    "collapsed": true
   },
   "outputs": [],
   "source": [
    "ks=[2,3,4]\n",
    "lmbdas=[0.1, 1.0, 2.0, 10.0]"
   ]
  },
  {
   "cell_type": "code",
   "execution_count": null,
   "metadata": {
    "scrolled": true
   },
   "outputs": [],
   "source": [
    "res={}\n",
    "for k in ks:\n",
    "    for l in lmbdas:\n",
    "        X,Y=als_train(Number_Users2, Number_Movies2, train2, k=k, lmbda=l)\n",
    "        yhat=als_predict(X,Y,valid2.values[:,0:2])\n",
    "        y=valid2.values[:,2]\n",
    "        res[(k,l)] = rmse(y,yhat)\n",
    "        print \"(%d, %f) -> %f\" % (k,l,res[(k,l)])"
   ]
  },
  {
   "cell_type": "code",
   "execution_count": null,
   "metadata": {},
   "outputs": [],
   "source": [
    "X,Y=als_train(Number_Users2, Number_Movies2, train2, k=2, lmbda=1)\n",
    "yhat=als_predict(X,Y, test2.values[:,0:2])\n",
    "print rmse(test2.values[:,2], yhat)"
   ]
  },
  {
   "cell_type": "code",
   "execution_count": null,
   "metadata": {
    "collapsed": true
   },
   "outputs": [],
   "source": []
  }
 ],
 "metadata": {
  "kernelspec": {
   "display_name": "Python 2",
   "language": "python",
   "name": "python2"
  },
  "language_info": {
   "codemirror_mode": {
    "name": "ipython",
    "version": 2
   },
   "file_extension": ".py",
   "mimetype": "text/x-python",
   "name": "python",
   "nbconvert_exporter": "python",
   "pygments_lexer": "ipython2",
   "version": "2.7.12"
  }
 },
 "nbformat": 4,
 "nbformat_minor": 2
}
